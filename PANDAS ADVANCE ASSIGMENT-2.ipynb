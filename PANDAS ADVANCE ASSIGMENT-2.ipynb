{
 "cells": [
  {
   "cell_type": "markdown",
   "id": "ded178dd-b26e-46c4-9a04-9edbd0d37482",
   "metadata": {},
   "source": [
    "Consider following code to answer further questions:\n",
    "\n",
    "import pandas as pd\n",
    "\n",
    "course_name = [‘Data Science’, ‘Machine Learning’, ‘Big Data’, ‘Data Engineer’]\n",
    "\n",
    "duration =  [2,3,6,4]\n",
    "\n",
    "df = pd.DataFrame(data = {‘course_name’ : course_name, ‘duration’ : duration})\n",
    "Q1. Write a code to print the data present in the second row of the dataframe, df."
   ]
  },
  {
   "cell_type": "code",
   "execution_count": 14,
   "id": "0eb3f75b-9843-4fb6-8a3d-d6e44fc26e16",
   "metadata": {},
   "outputs": [
    {
     "name": "stdout",
     "output_type": "stream",
     "text": [
      "course_name    Machine Learning\n",
      "duration                      3\n",
      "Name: 1, dtype: object\n"
     ]
    }
   ],
   "source": [
    "import pandas as pd\n",
    "\n",
    "course_name = ['Data Science', 'Machine Learning', 'Big Data', 'Data Engineer']\n",
    "\n",
    "duration =  [2,3,6,4]\n",
    "\n",
    "df = pd.DataFrame(data = {'course_name' : course_name, 'duration' : duration})\n",
    "second_row = df.iloc[1]\n",
    "print(second_row)"
   ]
  },
  {
   "cell_type": "markdown",
   "id": "9ef170bf-85ce-466a-a277-4a7b96d1ff40",
   "metadata": {},
   "source": [
    "Q2. What is the difference between the functions loc and iloc in pandas.DataFrame?\n",
    "\n"
   ]
  },
  {
   "cell_type": "markdown",
   "id": "920452ae-fab8-47c4-94bd-76d3bdc7fb7d",
   "metadata": {},
   "source": [
    "# Loc(label-based indexing) :-\n",
    "\n",
    "* The loc(label-based indexing) are primarily in which we can use for Actual row & column labels selection .\n",
    "* We can specify and Row & Column directly with using of Loc \n",
    "* It is a inclusive of start and stop indices, meaing that we can aslo choose the last end of the index .\n",
    "\n",
    "let us the taking the example of loc "
   ]
  },
  {
   "cell_type": "code",
   "execution_count": null,
   "id": "0491f93a-461b-4dbc-8da1-a338344812c0",
   "metadata": {},
   "outputs": [],
   "source": [
    "df = pd.DataFrame({'A' :[1,2,3] , 'B' : [4,5,6] } , index=['a' , 'b' , 'c'])\n",
    "# Selecting the Specific Row & Column \n",
    "value = df.loc['c' , 'A']\n",
    "print(value)"
   ]
  },
  {
   "cell_type": "markdown",
   "id": "f55eea64-7f3e-4287-bc38-3bd4bf666bce",
   "metadata": {},
   "source": [
    "# iloc(integer location based indexing) :-\n",
    "\n",
    "* The iloc(integer-based indexing) is used by using the integer position to make selection . \n",
    "* It is exclusove of the stop index which means end of the index is not included . \n",
    "* We can specify the integer positions of Row & Column when using iloc . \n",
    "\n",
    "let us taking the example of the iloc "
   ]
  },
  {
   "cell_type": "code",
   "execution_count": null,
   "id": "c6a859ca-b66c-47a0-853e-a75c8507b770",
   "metadata": {},
   "outputs": [],
   "source": [
    "df = pd.DataFrame({'A' : [1,2,3] , 'B' : [4,5,6]})\n",
    "# selectin the any specific Row & columns using integer positions .\n",
    "value = df.iloc[1,0]\n",
    "print(value)"
   ]
  },
  {
   "cell_type": "markdown",
   "id": "f307d52f-06a3-4dc4-98e3-a2412f4f8334",
   "metadata": {},
   "source": [
    "Q3. Reindex the given dataframe using a variable, reindex = [3,0,1,2] and store it in the variable, new_df\n",
    "then find the output for both new_df.loc[2] and new_df.iloc[2].\n",
    "Did you observe any difference in both the outputs? If so then explain it.\n"
   ]
  },
  {
   "cell_type": "code",
   "execution_count": null,
   "id": "f9dbe4bb-7fbd-42ea-9122-dd0ea1c76961",
   "metadata": {},
   "outputs": [],
   "source": [
    "df = pd.DataFrame({'A' : [1,2,3] , 'B' : [4,5,6] })\n",
    "\n",
    "# Define the Reindex variable\n",
    "reindex = [3,0,1,2]\n",
    "\n",
    "# store in the new_df\n",
    "new_df = df.reindex(reindex)\n",
    "\n",
    "# output for new_df.loc[2]\n",
    "output_loc = new_df.loc[2]\n",
    "\n",
    "# output for new_df.iloc[2]\n",
    "output_iloc = new_df.iloc[2]\n",
    "\n",
    "# printing the Both the Output of new_loc\n",
    "print(output_loc)\n",
    "print(output_iloc)"
   ]
  },
  {
   "cell_type": "markdown",
   "id": "e116e23e-146b-42fd-a0fa-31ffa46177ca",
   "metadata": {},
   "source": [
    "From the above the Both output shows that :-\n",
    "\n",
    "* new_df.loc[2] work on the basis of the label-based indexing in which the indexing start from 0,1,2 And\n",
    "  give the output of A=3 & B=6 it consider the 3 and 6 because it count 1 digit less the than the actual\n",
    "  count so it consider the 3rd number of A & B but actually is 2. it is also known as label based indexing .\n",
    "  \n",
    "  \n",
    "* new_df.iloc[2] work on the basis of the  interger location-based indexing in which they give the Actual integer \n",
    "  positions just Like when we are using the integer number like-2,3 etc and using the iloc then the function return\n",
    "  the actual integer positions data . "
   ]
  },
  {
   "cell_type": "markdown",
   "id": "2143c3c2-dc1c-43d5-a94c-c084d7ada16b",
   "metadata": {},
   "source": [
    "Q4. Write a code to find the following statistical measurements for the above dataframe df1:\n",
    "\n",
    "(i) \tmean of each and every column present in the dataframe.\n",
    "\n",
    "(ii) standard deviation of column, ‘column_2’\n",
    "\n",
    "\n"
   ]
  },
  {
   "cell_type": "code",
   "execution_count": null,
   "id": "8676ed2d-9bca-4523-bb42-df8ad72bf901",
   "metadata": {},
   "outputs": [],
   "source": [
    "import numpy as np\n",
    "\n",
    "columns = ['column_1', 'column_2', 'column_3', 'column_4', 'column_5', 'column_6']\n",
    "\n",
    "indices = [1,2,3,4,5,6]\n",
    "\n",
    "#Creating a dataframe:\n",
    "\n",
    "df1 = pd.DataFrame(np.random.rand(6,6), columns = columns, index = indices)\n",
    "\n",
    "# finding the mean of all the columns . \n",
    "column_means = df1.mean()\n",
    "print(column_means)"
   ]
  },
  {
   "cell_type": "markdown",
   "id": "8b31e558-91af-4dc7-bec7-997a44bb7f8d",
   "metadata": {},
   "source": [
    "(ii) standard deviation of column, ‘column_2’\n",
    "\n",
    "\n"
   ]
  },
  {
   "cell_type": "code",
   "execution_count": null,
   "id": "3b217ff3-0a57-4216-b3bb-e75f8c37c879",
   "metadata": {},
   "outputs": [],
   "source": [
    "import numpy as np\n",
    "\n",
    "columns = ['column_1', 'column_2', 'column_3', 'column_4', 'column_5', 'column_6']\n",
    "\n",
    "indices = [1,2,3,4,5,6]\n",
    "\n",
    "#Creating a dataframe:\n",
    "\n",
    "df1 = pd.DataFrame(np.random.rand(6,6), columns = columns, index = indices)\n",
    "\n",
    "# Calculating the standard deviation of columns 2 . \n",
    "\n",
    "standard_deviation_column2 = df1['column_2'].std()\n",
    "print(standard_deviation_column2)"
   ]
  },
  {
   "cell_type": "markdown",
   "id": "692a1217-b326-49a8-a877-c2b65660e247",
   "metadata": {},
   "source": [
    "Q5. Replace the data present in the second row of column, ‘column_2’ by a string variable then find the\n",
    "mean of column, column_2.\n",
    "\n",
    "If you are getting errors in executing it then explain why."
   ]
  },
  {
   "cell_type": "code",
   "execution_count": null,
   "id": "c98d84cb-91f8-471e-9507-f31afc42a65e",
   "metadata": {},
   "outputs": [],
   "source": [
    "import pandas as pd\n",
    "\n",
    "import numpy as np\n",
    "\n",
    "columns = ['column_1', 'column_2', 'column_3', 'column_4', 'column_5', 'column_6']\n",
    "\n",
    "indices = [1,2,3,4,5,6]\n",
    "\n",
    "#Creating a dataframe:\n",
    "\n",
    "df1 = pd.DataFrame(np.random.rand(6,6), columns = columns, index = indices)\n",
    "\n",
    "# Displaying the original Dataframe\n",
    "print(\"Original Dataframe:\")\n",
    "print(df1)\n",
    "\n",
    "# Replace the data in second row of column_2 with a string variable:\n",
    "string_value = \"NewString\"\n",
    "df1.at[2 , 'column_2'] = string_value\n",
    "\n",
    "# Displaying the modified new Dataframe \n",
    "print(\"Dataframe after replacing the second row of column_2 with a string:\")\n",
    "print(df1)\n",
    "\n",
    "# Calculate the mean of the column_2\n",
    "mean_column_2 = df1['column_2'].mean()\n",
    "print(mean_column_2)"
   ]
  },
  {
   "cell_type": "markdown",
   "id": "56dd0124-e0b5-4f64-a9b4-b1b4c73efb94",
   "metadata": {},
   "source": [
    "* This error is occur because of the different data types we can't Add the 'strings' in any columns which \n",
    "  contains the Numeric data types value after the inserting the string the dat is mixed with each other and \n",
    "  finally make the mixed data types and operations like mean cannot be performed on the mixed data types .\n",
    "  \n",
    "* If we want to replace the data of the column_2 of the second row with a string, We want to convert the Column into\n",
    "  the string which contains strings after this we can easily put the string data types"
   ]
  },
  {
   "cell_type": "markdown",
   "id": "572a48b5-3efe-4619-a8ac-dc887839b126",
   "metadata": {},
   "source": [
    "Q6. What do you understand about the windows function in pandas and list the types of windows\n",
    "functions?"
   ]
  },
  {
   "cell_type": "markdown",
   "id": "9e7c03c4-6929-4d68-a65c-521ac33af469",
   "metadata": {},
   "source": [
    "* In pandas \"window functions\" is refers to set of operations that are applied on the specific \n",
    "  subset of the data called a \"window\" . These types of operations are used for the statistical \n",
    "  and analytical purpose they provide the way of calculations over a rolling or expanding window\n",
    "  of the data . \n",
    "\n",
    "* The primary functions of pandas for the using \"window\" is rolling(). this functions can be applied into the\n",
    "  pandas series & DataFrame to create the rolling view, and then we can apply the various aggregation functions\n",
    "  can be applied to this rolling view. the rolling view is essentially a window that moves through tha data \n",
    "  and the aggregation functions are computed over this window .\n",
    "  \n",
    "# Sum : rolling.sum()\n",
    "# Mean : rolling.mean()\n",
    "# Stahdard Deviation : rolling.std()\n",
    "# Minimum : rolling.min()\n",
    "# Maximum : rolling.max()\n",
    "# Correlation : rolling.corr()\n",
    "# Covariance : rolling.cov() \n",
    "\n",
    "\n",
    "\n",
    "let us the taking the example of the functions :-  \n"
   ]
  },
  {
   "cell_type": "code",
   "execution_count": null,
   "id": "62c25e1a-343d-4bca-aa4f-5c1e861b9faa",
   "metadata": {},
   "outputs": [],
   "source": [
    "# Creating the Sample Dataframe \n",
    "data = {'value' :[1,2,3,4,5]}\n",
    "df = pd.DataFrame(data)\n",
    "# applying the rolling sum over a window of size 2 \n",
    "rolling_sum = df['value'].rolling(window=2).sum()\n",
    "print(rolling_sum)"
   ]
  },
  {
   "cell_type": "markdown",
   "id": "25048a08-6db8-4cc3-a53f-73ce3619f211",
   "metadata": {},
   "source": [
    "Q7. Write a code to print only the current month and year at the time of answering this question.\n",
    "\n",
    "[Hint: Use pandas.datetime function]"
   ]
  },
  {
   "cell_type": "code",
   "execution_count": null,
   "id": "ad6e5271-07bb-4a6b-9815-80ae98e60e80",
   "metadata": {},
   "outputs": [],
   "source": [
    "import pandas as pd \n",
    "\n",
    "# Get the current date and time \n",
    "current_datetime = pd.to_datetime('today')\n",
    "\n",
    "# Extract the month and year\n",
    "current_month = current_datetime.month\n",
    "current_year = current_datetime.year\n",
    "\n",
    "#Print the Result\n",
    "print(f\"Current Month: {current_month}, Current Year: {current_year}\")"
   ]
  },
  {
   "cell_type": "markdown",
   "id": "7c27d794-3b96-480c-88ff-cf995a3fb042",
   "metadata": {},
   "source": [
    "Q8. Write a Python program that takes in two dates as input (in the format YYYY-MM-DD) and\n",
    "calculates the difference between them in days, hours, and minutes using Pandas time delta. The\n",
    "program should prompt the user to enter the dates and display the result."
   ]
  },
  {
   "cell_type": "code",
   "execution_count": null,
   "id": "72c8fe07-f9aa-46ca-a4cb-10b0670d3105",
   "metadata": {},
   "outputs": [],
   "source": [
    "# Functions to Calculate the time difference \n",
    "\n",
    "def calculate_time_difference(start_date , end_date):\n",
    "    # Convert input strings into pandas datetime objects\n",
    "    start_datetime = pd.to_datetime(start_date)\n",
    "    end_datetime = pd.to_datetime(end_date)\n",
    "    # Calculate the time Difference \n",
    "    time_difference = end_datetime - start_datetime\n",
    "    # Extract days , hours and minutes\n",
    "    days = time_difference.days\n",
    "    hours , remainder = divmod(time_difference.seconds , 3600)\n",
    "    minutes, _ = divmod(remainder,60)\n",
    "    return days,hours,minutes\n",
    "\n",
    "# Get user input for start dates and end dates\n",
    "start_date_input = input(\"Enter the start date(YYYY-MM-DD):\")\n",
    "end_date_input = input(\"Enter the end date(YYYY-MM-DD):\")\n",
    "\n",
    "# Calculate the time difference \n",
    "try:\n",
    "    days_diff , hours_diff , minutes_diff = calculate_time_difference(start_date_input , end_date_input)\n",
    "    \n",
    "    # Display the result \n",
    "    print(f\"\\nTime Difference : {days_diff} days , {hours_diff} hours , {minutes_diff} minutes.\")\n",
    "    \n",
    "except ValueError as e :\n",
    "    print(f\"Error :{e}. Please enter the valid date formats (YYYY-MM-DD).\")"
   ]
  },
  {
   "cell_type": "markdown",
   "id": "f9a5a65c-a31c-4d28-89ec-4fa89fca52df",
   "metadata": {},
   "source": [
    "Q9. Write a Python program that reads a CSV file containing categorical data and converts a specified\n",
    "column to a categorical data type. The program should prompt the user to enter the file path, column\n",
    "name, and category order, and then display the sorted data."
   ]
  },
  {
   "cell_type": "code",
   "execution_count": null,
   "id": "8284fdb7-611f-4fe0-be77-b95514e3e340",
   "metadata": {},
   "outputs": [],
   "source": [
    "import pandas as pd\n",
    "\n",
    "def convert_to_categorical(file_path, column_name, category_order):\n",
    "    # Read the CSV file into a DataFrame\n",
    "    df = pd.read_csv(file_path)\n",
    "\n",
    "    # Convert the specified column to categorical with the given category order\n",
    "    df[column_name] = pd.Categorical(df[column_name], categories=category_order, ordered=True)\n",
    "\n",
    "    # Display the sorted data\n",
    "    sorted_data = df.sort_values(column_name)\n",
    "    print(sorted_data)\n",
    "\n",
    "if __name__ == \"__main__\":\n",
    "    # Get user input for file path, column name, and category order\n",
    "    file_path = input(\"Enter the file path: \")\n",
    "    column_name = input(\"Enter the column name to convert to categorical: \")\n",
    "    category_order = input(\"Enter the category order (comma-separated): \").split(',')\n",
    "\n",
    "    # Call the function to convert and display the sorted data\n",
    "    convert_to_categorical(file_path, column_name, category_order)\n"
   ]
  },
  {
   "cell_type": "markdown",
   "id": "de270941-b4d9-45f4-8569-d640b244269b",
   "metadata": {},
   "source": [
    "Q10. Write a Python program that reads a CSV file containing sales data for different products and\n",
    "visualizes the data using a stacked bar chart to show the sales of each product category over time. The\n",
    "program should prompt the user to enter the file path and display the chart."
   ]
  },
  {
   "cell_type": "code",
   "execution_count": null,
   "id": "eaa2ebbf-3afa-4a2e-8b8f-561678b48c08",
   "metadata": {},
   "outputs": [],
   "source": [
    "import pandas as pd \n",
    "import matplotlib.pyplot as plt\n",
    "\n",
    "def visualize_sales_data(file_path):\n",
    "    # Read the CSV file into the DataFrame \n",
    "    df = pd.DataFrame(file_path)\n",
    "    # Assuming the CSV file have columns like 'Date' , 'ProductCategory' and 'Sales'\n",
    "    # Adjust the column names accordingly to match of our CSV file structure \n",
    "    \n",
    "    # Convert the 'Date' column into the datetime type\n",
    "    df['Date'] = pd.to_datetime(df['Date'])\n",
    "    \n",
    "    # Pivot the Dataframe to prepare for a stacked bar chart \n",
    "    pivot_df = df.pivot_table(index='Date' , columns='ProductCategory' , values='Sales' , aggfunc='sum' , fill_value=0)\n",
    "    \n",
    "    # Create a stacked bar chart ^_^\n",
    "    pivot_df.plot(kind='bar' , stacked=True , figsize=(10,6))\n",
    "    plt.title(\"Sales by product category over time\")\n",
    "    plt.xlabel(\"Date\")\n",
    "    plt.ylabel(\"Sales\")\n",
    "    plt.legend(title='Product Category' , bbox_to_anchor=(1.05 ,1) ,loc='upper left' )\n",
    "    \n",
    "    # Display the chart\n",
    "    plt.show()\n",
    "if __name__ == \"__main__\":\n",
    "    read_csv_and_plot()"
   ]
  },
  {
   "cell_type": "markdown",
   "id": "957f0a96-eb1d-4cd9-a430-117248e23c0a",
   "metadata": {},
   "source": [
    "Q10. Write a Python program that reads a CSV file containing sales data for different products and\n",
    "visualizes the data using a stacked bar chart to show the sales of each product category over time. The\n",
    "program should prompt the user to enter the file path and display the chart."
   ]
  },
  {
   "cell_type": "code",
   "execution_count": null,
   "id": "f143b22a-94f0-48cd-bdfc-65bddbaf8df6",
   "metadata": {},
   "outputs": [],
   "source": [
    "import pandas as pd\n",
    "import matplotlib.pyplot as plt\n",
    "\n",
    "def read_csv_and_plot():\n",
    "    # Promote the user to enter file path\n",
    "    file_path = input(\"Enter the path to CSV file:\")\n",
    "    # Read the CSV into panda DataFrame \n",
    "    try :\n",
    "        df = pd.read_csv(file_path)\n",
    "    except FileNotFoundError:\n",
    "        print(\"File not found.Please provide the file path.\")\n",
    "        return\n",
    "    except pd.errors.EmptyDataError: \n",
    "        print(\"The file is empty.Please provide valid file with data.\")\n",
    "        return\n",
    "    except pd.errors.ParserError:\n",
    "        print(\"Error the Parsing file.PLease ensure it is Formatted correctly.\")\n",
    "        return\n",
    "    # Check if DataFrame has the Expected columns\n",
    "    if 'Date' not in df.columns or 'Product_Category' not in df.columns or 'Sales' not in df.columns:\n",
    "        print(\"The CSV should have'Date' ,'Product_Category' , and 'Sales' columns.\")\n",
    "        return \n",
    "    # Convert Date Column into datetime type\n",
    "    df['Date'] = pd.to_datetime(df['Date'])\n",
    "    \n",
    "    # Pivot the DataFrame to get a table suitable for stacked bar chart\n",
    "    dv_pivot = df.pivot_table(index='Date' , columns='Product_Category' , values='Sales' , aggfunc='sum' ,fill_value=0)\n",
    "    \n",
    "    # plot the stacked bar chart \n",
    "    plt.title('Sales Data over times by Product Category')\n",
    "    plt.xlabel('Date')\n",
    "    plt.ylabel('Sales')\n",
    "    plt.legend(title='Product Category' , bbox_to_anchor=(1.05,1) , loc='upper left')\n",
    "    \n",
    "    # Display the chart \n",
    "    plt.show()\n",
    "\n",
    "if __name__== \"__main__\":\n",
    "    read_csv_and_plot()"
   ]
  },
  {
   "cell_type": "markdown",
   "id": "cee79451-6a05-4a95-9932-2ad50d7235dd",
   "metadata": {},
   "source": [
    "Q11. You are given a CSV file containing student data that includes the student ID and their test score. Write\n",
    "a Python program that reads the CSV file, calculates the mean, median, and mode of the test scores, and\n",
    "displays the results in a table.\n",
    "The program should do the followingM\n",
    "I Prompt the user to enter the file path of the CSV file containing the student dataR\n",
    "I Read the CSV file into a Pandas DataFrameR\n",
    "I Calculate the mean, median, and mode of the test scores using Pandas toolsR\n",
    "I Display the mean, median, and mode in a table.\n",
    "\n",
    "Assume the CSV file contains the following columnsM\n",
    "I Student ID: The ID of the studentR\n",
    "I Test Score: The score of the student's test.\n",
    "Example usage of the program:\n",
    "\n",
    "Enter the file path of the CSV file containing the student data: student_data.csv\n",
    "\n",
    "\n",
    "+-----------+--------+\n",
    "\n",
    "| Statistic | Value  |\n",
    "\n",
    "+-----------+--------+\n",
    "\n",
    "| Mean      | 79.6   |\n",
    "\n",
    "| Median    | 82     |\n",
    "\n",
    "| Mode      | 85, 90 |\n",
    "\n",
    "+-----------+--------+\n",
    "\n",
    "\n",
    "Assume that the CSV file student_data.csv contains the following data:\n",
    "\n",
    "Student ID,Test Score\n",
    "\n",
    "1,85\n",
    "\n",
    "2,90\n",
    "\n",
    "3,80\n",
    "\n",
    "4,75\n",
    "\n",
    "5,85\n",
    "\n",
    "6,82\n",
    "\n",
    "7,78\n",
    "\n",
    "8,85\n",
    "\n",
    "9,90\n",
    "\n",
    "10,85\n",
    "\n",
    "\n",
    "The program should calculate the mean, median, and mode of the test scores and display the results\n",
    "in a table."
   ]
  },
  {
   "cell_type": "code",
   "execution_count": null,
   "id": "9bb6e9f7-24a5-469e-9f77-198af0c1b97b",
   "metadata": {},
   "outputs": [],
   "source": [
    "import pandas as pd\n",
    "# Promote the user to Promote the file_path of the CSV file containing the student Data\n",
    "file_path = input(\"Enter the file path of the CSV file containing the student data:\")\n",
    "\n",
    "# Read the CSV file into the Pandas DataFrame\n",
    "df = pd.read_csv(file_path)\n",
    "\n",
    "# Calculate the mean , median and mode of the student test Scores\n",
    "mean_score = df['Test Score'].mean()\n",
    "median-score = df['Test Score'].median()\n",
    "mode_score = df['Test Score'].mode()\n",
    "\n",
    "# Display the result in the Table\n",
    "result_table = pd.DataFrame({'Statistic' : ['Mean' ,'Median' ,'Mode'],\n",
    "                            'Value' :[mean_score , median_score , ','.join(map(str , mode_score))]})\n",
    "print(\"\\n+-----------+---------\")\n",
    "print(result_table.to_string(index=False))\n",
    "print(\"+-------+-------+\")\n",
    "\n"
   ]
  }
 ],
 "metadata": {
  "kernelspec": {
   "display_name": "Python 3 (ipykernel)",
   "language": "python",
   "name": "python3"
  },
  "language_info": {
   "codemirror_mode": {
    "name": "ipython",
    "version": 3
   },
   "file_extension": ".py",
   "mimetype": "text/x-python",
   "name": "python",
   "nbconvert_exporter": "python",
   "pygments_lexer": "ipython3",
   "version": "3.10.8"
  }
 },
 "nbformat": 4,
 "nbformat_minor": 5
}
